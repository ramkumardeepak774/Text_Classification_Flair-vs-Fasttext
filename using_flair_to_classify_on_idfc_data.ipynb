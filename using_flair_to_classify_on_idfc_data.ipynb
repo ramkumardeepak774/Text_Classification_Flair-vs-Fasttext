{
  "nbformat": 4,
  "nbformat_minor": 0,
  "metadata": {
    "colab": {
      "provenance": [],
      "gpuType": "T4",
      "authorship_tag": "ABX9TyPrYgjVaNsD+vR6caXv01YY",
      "include_colab_link": true
    },
    "kernelspec": {
      "name": "python3",
      "display_name": "Python 3"
    },
    "language_info": {
      "name": "python"
    },
    "accelerator": "GPU",
    "gpuClass": "standard"
  },
  "cells": [
    {
      "cell_type": "markdown",
      "metadata": {
        "id": "view-in-github",
        "colab_type": "text"
      },
      "source": [
        "<a href=\"https://colab.research.google.com/github/ramkumardeepak774/Text_Classification_Flair-vs-Fasttext/blob/main/using_flair_to_classify_on_idfc_data.ipynb\" target=\"_parent\"><img src=\"https://colab.research.google.com/assets/colab-badge.svg\" alt=\"Open In Colab\"/></a>"
      ]
    },
    {
      "cell_type": "code",
      "execution_count": null,
      "metadata": {
        "colab": {
          "base_uri": "https://localhost:8080/",
          "height": 1000
        },
        "id": "cUt8Ic2hk7vT",
        "outputId": "fdb90998-7e0b-4952-f905-373dca4f0175"
      },
      "outputs": [
        {
          "output_type": "stream",
          "name": "stdout",
          "text": [
            "Looking in indexes: https://pypi.org/simple, https://us-python.pkg.dev/colab-wheels/public/simple/\n",
            "Collecting flair\n",
            "  Downloading flair-0.12.2-py3-none-any.whl (373 kB)\n",
            "\u001b[2K     \u001b[90m━━━━━━━━━━━━━━━━━━━━━━━━━━━━━━━━━━━━━━━\u001b[0m \u001b[32m373.1/373.1 kB\u001b[0m \u001b[31m8.3 MB/s\u001b[0m eta \u001b[36m0:00:00\u001b[0m\n",
            "\u001b[?25hRequirement already satisfied: python-dateutil>=2.6.1 in /usr/local/lib/python3.10/dist-packages (from flair) (2.8.2)\n",
            "Requirement already satisfied: torch!=1.8,>=1.5.0 in /usr/local/lib/python3.10/dist-packages (from flair) (2.0.0+cu118)\n",
            "Requirement already satisfied: gensim>=3.8.0 in /usr/local/lib/python3.10/dist-packages (from flair) (4.3.1)\n",
            "Requirement already satisfied: tqdm>=4.26.0 in /usr/local/lib/python3.10/dist-packages (from flair) (4.65.0)\n",
            "Collecting segtok>=1.5.7 (from flair)\n",
            "  Downloading segtok-1.5.11-py3-none-any.whl (24 kB)\n",
            "Requirement already satisfied: matplotlib>=2.2.3 in /usr/local/lib/python3.10/dist-packages (from flair) (3.7.1)\n",
            "Collecting mpld3==0.3 (from flair)\n",
            "  Downloading mpld3-0.3.tar.gz (788 kB)\n",
            "\u001b[2K     \u001b[90m━━━━━━━━━━━━━━━━━━━━━━━━━━━━━━━━━━━━━━\u001b[0m \u001b[32m788.5/788.5 kB\u001b[0m \u001b[31m39.0 MB/s\u001b[0m eta \u001b[36m0:00:00\u001b[0m\n",
            "\u001b[?25h  Preparing metadata (setup.py) ... \u001b[?25l\u001b[?25hdone\n",
            "Requirement already satisfied: scikit-learn>=0.21.3 in /usr/local/lib/python3.10/dist-packages (from flair) (1.2.2)\n",
            "Collecting sqlitedict>=1.6.0 (from flair)\n",
            "  Downloading sqlitedict-2.1.0.tar.gz (21 kB)\n",
            "  Preparing metadata (setup.py) ... \u001b[?25l\u001b[?25hdone\n",
            "Collecting deprecated>=1.2.4 (from flair)\n",
            "  Downloading Deprecated-1.2.13-py2.py3-none-any.whl (9.6 kB)\n",
            "Requirement already satisfied: hyperopt>=0.2.7 in /usr/local/lib/python3.10/dist-packages (from flair) (0.2.7)\n",
            "Collecting boto3 (from flair)\n",
            "  Downloading boto3-1.26.132-py3-none-any.whl (135 kB)\n",
            "\u001b[2K     \u001b[90m━━━━━━━━━━━━━━━━━━━━━━━━━━━━━━━━━━━━━━\u001b[0m \u001b[32m135.6/135.6 kB\u001b[0m \u001b[31m19.4 MB/s\u001b[0m eta \u001b[36m0:00:00\u001b[0m\n",
            "\u001b[?25hCollecting transformers[sentencepiece]>=4.18.0 (from flair)\n",
            "  Downloading transformers-4.29.0-py3-none-any.whl (7.1 MB)\n",
            "\u001b[2K     \u001b[90m━━━━━━━━━━━━━━━━━━━━━━━━━━━━━━━━━━━━━━━━\u001b[0m \u001b[32m7.1/7.1 MB\u001b[0m \u001b[31m86.2 MB/s\u001b[0m eta \u001b[36m0:00:00\u001b[0m\n",
            "\u001b[?25hCollecting bpemb>=0.3.2 (from flair)\n",
            "  Downloading bpemb-0.3.4-py3-none-any.whl (19 kB)\n",
            "Requirement already satisfied: regex in /usr/local/lib/python3.10/dist-packages (from flair) (2022.10.31)\n",
            "Requirement already satisfied: tabulate in /usr/local/lib/python3.10/dist-packages (from flair) (0.8.10)\n",
            "Collecting langdetect (from flair)\n",
            "  Downloading langdetect-1.0.9.tar.gz (981 kB)\n",
            "\u001b[2K     \u001b[90m━━━━━━━━━━━━━━━━━━━━━━━━━━━━━━━━━━━━━━\u001b[0m \u001b[32m981.5/981.5 kB\u001b[0m \u001b[31m71.5 MB/s\u001b[0m eta \u001b[36m0:00:00\u001b[0m\n",
            "\u001b[?25h  Preparing metadata (setup.py) ... \u001b[?25l\u001b[?25hdone\n",
            "Requirement already satisfied: lxml in /usr/local/lib/python3.10/dist-packages (from flair) (4.9.2)\n",
            "Collecting ftfy (from flair)\n",
            "  Downloading ftfy-6.1.1-py3-none-any.whl (53 kB)\n",
            "\u001b[2K     \u001b[90m━━━━━━━━━━━━━━━━━━━━━━━━━━━━━━━━━━━━━━━━\u001b[0m \u001b[32m53.1/53.1 kB\u001b[0m \u001b[31m7.8 MB/s\u001b[0m eta \u001b[36m0:00:00\u001b[0m\n",
            "\u001b[?25hCollecting janome (from flair)\n",
            "  Downloading Janome-0.4.2-py2.py3-none-any.whl (19.7 MB)\n",
            "\u001b[2K     \u001b[90m━━━━━━━━━━━━━━━━━━━━━━━━━━━━━━━━━━━━━━━━\u001b[0m \u001b[32m19.7/19.7 MB\u001b[0m \u001b[31m79.3 MB/s\u001b[0m eta \u001b[36m0:00:00\u001b[0m\n",
            "\u001b[?25hCollecting gdown==4.4.0 (from flair)\n",
            "  Downloading gdown-4.4.0.tar.gz (14 kB)\n",
            "  Installing build dependencies ... \u001b[?25l\u001b[?25hdone\n",
            "  Getting requirements to build wheel ... \u001b[?25l\u001b[?25hdone\n",
            "  Preparing metadata (pyproject.toml) ... \u001b[?25l\u001b[?25hdone\n",
            "Collecting huggingface-hub>=0.10.0 (from flair)\n",
            "  Downloading huggingface_hub-0.14.1-py3-none-any.whl (224 kB)\n",
            "\u001b[2K     \u001b[90m━━━━━━━━━━━━━━━━━━━━━━━━━━━━━━━━━━━━━━\u001b[0m \u001b[32m224.5/224.5 kB\u001b[0m \u001b[31m24.4 MB/s\u001b[0m eta \u001b[36m0:00:00\u001b[0m\n",
            "\u001b[?25hCollecting conllu>=4.0 (from flair)\n",
            "  Downloading conllu-4.5.2-py2.py3-none-any.whl (16 kB)\n",
            "Requirement already satisfied: more-itertools in /usr/local/lib/python3.10/dist-packages (from flair) (9.1.0)\n",
            "Collecting wikipedia-api (from flair)\n",
            "  Downloading Wikipedia_API-0.5.8-py3-none-any.whl (13 kB)\n",
            "Collecting pptree (from flair)\n",
            "  Downloading pptree-3.1.tar.gz (3.0 kB)\n",
            "  Preparing metadata (setup.py) ... \u001b[?25l\u001b[?25hdone\n",
            "Collecting pytorch-revgrad (from flair)\n",
            "  Downloading pytorch_revgrad-0.2.0-py3-none-any.whl (4.6 kB)\n",
            "Collecting transformer-smaller-training-vocab>=0.2.1 (from flair)\n",
            "  Downloading transformer_smaller_training_vocab-0.2.3-py3-none-any.whl (12 kB)\n",
            "Requirement already satisfied: filelock in /usr/local/lib/python3.10/dist-packages (from gdown==4.4.0->flair) (3.12.0)\n",
            "Requirement already satisfied: requests[socks] in /usr/local/lib/python3.10/dist-packages (from gdown==4.4.0->flair) (2.27.1)\n",
            "Requirement already satisfied: six in /usr/local/lib/python3.10/dist-packages (from gdown==4.4.0->flair) (1.16.0)\n",
            "Requirement already satisfied: beautifulsoup4 in /usr/local/lib/python3.10/dist-packages (from gdown==4.4.0->flair) (4.11.2)\n",
            "Requirement already satisfied: numpy in /usr/local/lib/python3.10/dist-packages (from bpemb>=0.3.2->flair) (1.22.4)\n",
            "Collecting sentencepiece (from bpemb>=0.3.2->flair)\n",
            "  Downloading sentencepiece-0.1.99-cp310-cp310-manylinux_2_17_x86_64.manylinux2014_x86_64.whl (1.3 MB)\n",
            "\u001b[2K     \u001b[90m━━━━━━━━━━━━━━━━━━━━━━━━━━━━━━━━━━━━━━━━\u001b[0m \u001b[32m1.3/1.3 MB\u001b[0m \u001b[31m81.2 MB/s\u001b[0m eta \u001b[36m0:00:00\u001b[0m\n",
            "\u001b[?25hRequirement already satisfied: wrapt<2,>=1.10 in /usr/local/lib/python3.10/dist-packages (from deprecated>=1.2.4->flair) (1.14.1)\n",
            "Requirement already satisfied: scipy>=1.7.0 in /usr/local/lib/python3.10/dist-packages (from gensim>=3.8.0->flair) (1.10.1)\n",
            "Requirement already satisfied: smart-open>=1.8.1 in /usr/local/lib/python3.10/dist-packages (from gensim>=3.8.0->flair) (6.3.0)\n",
            "Requirement already satisfied: fsspec in /usr/local/lib/python3.10/dist-packages (from huggingface-hub>=0.10.0->flair) (2023.4.0)\n",
            "Requirement already satisfied: pyyaml>=5.1 in /usr/local/lib/python3.10/dist-packages (from huggingface-hub>=0.10.0->flair) (6.0)\n",
            "Requirement already satisfied: typing-extensions>=3.7.4.3 in /usr/local/lib/python3.10/dist-packages (from huggingface-hub>=0.10.0->flair) (4.5.0)\n",
            "Requirement already satisfied: packaging>=20.9 in /usr/local/lib/python3.10/dist-packages (from huggingface-hub>=0.10.0->flair) (23.1)\n",
            "Requirement already satisfied: networkx>=2.2 in /usr/local/lib/python3.10/dist-packages (from hyperopt>=0.2.7->flair) (3.1)\n",
            "Requirement already satisfied: future in /usr/local/lib/python3.10/dist-packages (from hyperopt>=0.2.7->flair) (0.18.3)\n",
            "Requirement already satisfied: cloudpickle in /usr/local/lib/python3.10/dist-packages (from hyperopt>=0.2.7->flair) (2.2.1)\n",
            "Requirement already satisfied: py4j in /usr/local/lib/python3.10/dist-packages (from hyperopt>=0.2.7->flair) (0.10.9.7)\n",
            "Requirement already satisfied: contourpy>=1.0.1 in /usr/local/lib/python3.10/dist-packages (from matplotlib>=2.2.3->flair) (1.0.7)\n",
            "Requirement already satisfied: cycler>=0.10 in /usr/local/lib/python3.10/dist-packages (from matplotlib>=2.2.3->flair) (0.11.0)\n",
            "Requirement already satisfied: fonttools>=4.22.0 in /usr/local/lib/python3.10/dist-packages (from matplotlib>=2.2.3->flair) (4.39.3)\n",
            "Requirement already satisfied: kiwisolver>=1.0.1 in /usr/local/lib/python3.10/dist-packages (from matplotlib>=2.2.3->flair) (1.4.4)\n",
            "Requirement already satisfied: pillow>=6.2.0 in /usr/local/lib/python3.10/dist-packages (from matplotlib>=2.2.3->flair) (8.4.0)\n",
            "Requirement already satisfied: pyparsing>=2.3.1 in /usr/local/lib/python3.10/dist-packages (from matplotlib>=2.2.3->flair) (3.0.9)\n",
            "Requirement already satisfied: joblib>=1.1.1 in /usr/local/lib/python3.10/dist-packages (from scikit-learn>=0.21.3->flair) (1.2.0)\n",
            "Requirement already satisfied: threadpoolctl>=2.0.0 in /usr/local/lib/python3.10/dist-packages (from scikit-learn>=0.21.3->flair) (3.1.0)\n",
            "Requirement already satisfied: sympy in /usr/local/lib/python3.10/dist-packages (from torch!=1.8,>=1.5.0->flair) (1.11.1)\n",
            "Requirement already satisfied: jinja2 in /usr/local/lib/python3.10/dist-packages (from torch!=1.8,>=1.5.0->flair) (3.1.2)\n",
            "Requirement already satisfied: triton==2.0.0 in /usr/local/lib/python3.10/dist-packages (from torch!=1.8,>=1.5.0->flair) (2.0.0)\n",
            "Requirement already satisfied: cmake in /usr/local/lib/python3.10/dist-packages (from triton==2.0.0->torch!=1.8,>=1.5.0->flair) (3.25.2)\n",
            "Requirement already satisfied: lit in /usr/local/lib/python3.10/dist-packages (from triton==2.0.0->torch!=1.8,>=1.5.0->flair) (16.0.3)\n",
            "Collecting datasets<3.0.0,>=2.0.0 (from transformer-smaller-training-vocab>=0.2.1->flair)\n",
            "  Downloading datasets-2.12.0-py3-none-any.whl (474 kB)\n",
            "\u001b[2K     \u001b[90m━━━━━━━━━━━━━━━━━━━━━━━━━━━━━━━━━━━━━━\u001b[0m \u001b[32m474.6/474.6 kB\u001b[0m \u001b[31m50.0 MB/s\u001b[0m eta \u001b[36m0:00:00\u001b[0m\n",
            "\u001b[?25hCollecting tokenizers!=0.11.3,<0.14,>=0.11.1 (from transformers[sentencepiece]>=4.18.0->flair)\n",
            "  Downloading tokenizers-0.13.3-cp310-cp310-manylinux_2_17_x86_64.manylinux2014_x86_64.whl (7.8 MB)\n",
            "\u001b[2K     \u001b[90m━━━━━━━━━━━━━━━━━━━━━━━━━━━━━━━━━━━━━━━━\u001b[0m \u001b[32m7.8/7.8 MB\u001b[0m \u001b[31m79.4 MB/s\u001b[0m eta \u001b[36m0:00:00\u001b[0m\n",
            "\u001b[?25hCollecting protobuf<=3.20.2 (from transformers[sentencepiece]>=4.18.0->flair)\n",
            "  Downloading protobuf-3.20.2-cp310-cp310-manylinux_2_12_x86_64.manylinux2010_x86_64.whl (1.1 MB)\n",
            "\u001b[2K     \u001b[90m━━━━━━━━━━━━━━━━━━━━━━━━━━━━━━━━━━━━━━━━\u001b[0m \u001b[32m1.1/1.1 MB\u001b[0m \u001b[31m74.1 MB/s\u001b[0m eta \u001b[36m0:00:00\u001b[0m\n",
            "\u001b[?25hCollecting botocore<1.30.0,>=1.29.132 (from boto3->flair)\n",
            "  Downloading botocore-1.29.132-py3-none-any.whl (10.7 MB)\n",
            "\u001b[2K     \u001b[90m━━━━━━━━━━━━━━━━━━━━━━━━━━━━━━━━━━━━━━━━\u001b[0m \u001b[32m10.7/10.7 MB\u001b[0m \u001b[31m81.5 MB/s\u001b[0m eta \u001b[36m0:00:00\u001b[0m\n",
            "\u001b[?25hCollecting jmespath<2.0.0,>=0.7.1 (from boto3->flair)\n",
            "  Downloading jmespath-1.0.1-py3-none-any.whl (20 kB)\n",
            "Collecting s3transfer<0.7.0,>=0.6.0 (from boto3->flair)\n",
            "  Downloading s3transfer-0.6.1-py3-none-any.whl (79 kB)\n",
            "\u001b[2K     \u001b[90m━━━━━━━━━━━━━━━━━━━━━━━━━━━━━━━━━━━━━━━━\u001b[0m \u001b[32m79.8/79.8 kB\u001b[0m \u001b[31m10.8 MB/s\u001b[0m eta \u001b[36m0:00:00\u001b[0m\n",
            "\u001b[?25hRequirement already satisfied: wcwidth>=0.2.5 in /usr/local/lib/python3.10/dist-packages (from ftfy->flair) (0.2.6)\n",
            "Requirement already satisfied: urllib3<1.27,>=1.25.4 in /usr/local/lib/python3.10/dist-packages (from botocore<1.30.0,>=1.29.132->boto3->flair) (1.26.15)\n",
            "Requirement already satisfied: pyarrow>=8.0.0 in /usr/local/lib/python3.10/dist-packages (from datasets<3.0.0,>=2.0.0->transformer-smaller-training-vocab>=0.2.1->flair) (9.0.0)\n",
            "Collecting dill<0.3.7,>=0.3.0 (from datasets<3.0.0,>=2.0.0->transformer-smaller-training-vocab>=0.2.1->flair)\n",
            "  Downloading dill-0.3.6-py3-none-any.whl (110 kB)\n",
            "\u001b[2K     \u001b[90m━━━━━━━━━━━━━━━━━━━━━━━━━━━━━━━━━━━━━━\u001b[0m \u001b[32m110.5/110.5 kB\u001b[0m \u001b[31m13.2 MB/s\u001b[0m eta \u001b[36m0:00:00\u001b[0m\n",
            "\u001b[?25hRequirement already satisfied: pandas in /usr/local/lib/python3.10/dist-packages (from datasets<3.0.0,>=2.0.0->transformer-smaller-training-vocab>=0.2.1->flair) (1.5.3)\n",
            "Collecting xxhash (from datasets<3.0.0,>=2.0.0->transformer-smaller-training-vocab>=0.2.1->flair)\n",
            "  Downloading xxhash-3.2.0-cp310-cp310-manylinux_2_17_x86_64.manylinux2014_x86_64.whl (212 kB)\n",
            "\u001b[2K     \u001b[90m━━━━━━━━━━━━━━━━━━━━━━━━━━━━━━━━━━━━━━\u001b[0m \u001b[32m212.5/212.5 kB\u001b[0m \u001b[31m22.6 MB/s\u001b[0m eta \u001b[36m0:00:00\u001b[0m\n",
            "\u001b[?25hCollecting multiprocess (from datasets<3.0.0,>=2.0.0->transformer-smaller-training-vocab>=0.2.1->flair)\n",
            "  Downloading multiprocess-0.70.14-py310-none-any.whl (134 kB)\n",
            "\u001b[2K     \u001b[90m━━━━━━━━━━━━━━━━━━━━━━━━━━━━━━━━━━━━━━\u001b[0m \u001b[32m134.3/134.3 kB\u001b[0m \u001b[31m17.1 MB/s\u001b[0m eta \u001b[36m0:00:00\u001b[0m\n",
            "\u001b[?25hCollecting aiohttp (from datasets<3.0.0,>=2.0.0->transformer-smaller-training-vocab>=0.2.1->flair)\n",
            "  Downloading aiohttp-3.8.4-cp310-cp310-manylinux_2_17_x86_64.manylinux2014_x86_64.whl (1.0 MB)\n",
            "\u001b[2K     \u001b[90m━━━━━━━━━━━━━━━━━━━━━━━━━━━━━━━━━━━━━━━━\u001b[0m \u001b[32m1.0/1.0 MB\u001b[0m \u001b[31m68.4 MB/s\u001b[0m eta \u001b[36m0:00:00\u001b[0m\n",
            "\u001b[?25hCollecting responses<0.19 (from datasets<3.0.0,>=2.0.0->transformer-smaller-training-vocab>=0.2.1->flair)\n",
            "  Downloading responses-0.18.0-py3-none-any.whl (38 kB)\n",
            "Requirement already satisfied: certifi>=2017.4.17 in /usr/local/lib/python3.10/dist-packages (from requests[socks]->gdown==4.4.0->flair) (2022.12.7)\n",
            "Requirement already satisfied: charset-normalizer~=2.0.0 in /usr/local/lib/python3.10/dist-packages (from requests[socks]->gdown==4.4.0->flair) (2.0.12)\n",
            "Requirement already satisfied: idna<4,>=2.5 in /usr/local/lib/python3.10/dist-packages (from requests[socks]->gdown==4.4.0->flair) (3.4)\n",
            "Collecting accelerate>=0.19.0 (from transformers[sentencepiece]>=4.18.0->flair)\n",
            "  Downloading accelerate-0.19.0-py3-none-any.whl (219 kB)\n",
            "\u001b[2K     \u001b[90m━━━━━━━━━━━━━━━━━━━━━━━━━━━━━━━━━━━━━━\u001b[0m \u001b[32m219.1/219.1 kB\u001b[0m \u001b[31m27.1 MB/s\u001b[0m eta \u001b[36m0:00:00\u001b[0m\n",
            "\u001b[?25hRequirement already satisfied: soupsieve>1.2 in /usr/local/lib/python3.10/dist-packages (from beautifulsoup4->gdown==4.4.0->flair) (2.4.1)\n",
            "Requirement already satisfied: MarkupSafe>=2.0 in /usr/local/lib/python3.10/dist-packages (from jinja2->torch!=1.8,>=1.5.0->flair) (2.1.2)\n",
            "Requirement already satisfied: PySocks!=1.5.7,>=1.5.6 in /usr/local/lib/python3.10/dist-packages (from requests[socks]->gdown==4.4.0->flair) (1.7.1)\n",
            "Requirement already satisfied: mpmath>=0.19 in /usr/local/lib/python3.10/dist-packages (from sympy->torch!=1.8,>=1.5.0->flair) (1.3.0)\n",
            "Requirement already satisfied: psutil in /usr/local/lib/python3.10/dist-packages (from accelerate>=0.19.0->transformers[sentencepiece]>=4.18.0->flair) (5.9.5)\n",
            "Requirement already satisfied: attrs>=17.3.0 in /usr/local/lib/python3.10/dist-packages (from aiohttp->datasets<3.0.0,>=2.0.0->transformer-smaller-training-vocab>=0.2.1->flair) (23.1.0)\n",
            "Collecting multidict<7.0,>=4.5 (from aiohttp->datasets<3.0.0,>=2.0.0->transformer-smaller-training-vocab>=0.2.1->flair)\n",
            "  Downloading multidict-6.0.4-cp310-cp310-manylinux_2_17_x86_64.manylinux2014_x86_64.whl (114 kB)\n",
            "\u001b[2K     \u001b[90m━━━━━━━━━━━━━━━━━━━━━━━━━━━━━━━━━━━━━\u001b[0m \u001b[32m114.5/114.5 kB\u001b[0m \u001b[31m716.9 kB/s\u001b[0m eta \u001b[36m0:00:00\u001b[0m\n",
            "\u001b[?25hCollecting async-timeout<5.0,>=4.0.0a3 (from aiohttp->datasets<3.0.0,>=2.0.0->transformer-smaller-training-vocab>=0.2.1->flair)\n",
            "  Downloading async_timeout-4.0.2-py3-none-any.whl (5.8 kB)\n",
            "Collecting yarl<2.0,>=1.0 (from aiohttp->datasets<3.0.0,>=2.0.0->transformer-smaller-training-vocab>=0.2.1->flair)\n",
            "  Downloading yarl-1.9.2-cp310-cp310-manylinux_2_17_x86_64.manylinux2014_x86_64.whl (268 kB)\n",
            "\u001b[2K     \u001b[90m━━━━━━━━━━━━━━━━━━━━━━━━━━━━━━━━━━━━━━\u001b[0m \u001b[32m268.8/268.8 kB\u001b[0m \u001b[31m33.8 MB/s\u001b[0m eta \u001b[36m0:00:00\u001b[0m\n",
            "\u001b[?25hCollecting frozenlist>=1.1.1 (from aiohttp->datasets<3.0.0,>=2.0.0->transformer-smaller-training-vocab>=0.2.1->flair)\n",
            "  Downloading frozenlist-1.3.3-cp310-cp310-manylinux_2_5_x86_64.manylinux1_x86_64.manylinux_2_17_x86_64.manylinux2014_x86_64.whl (149 kB)\n",
            "\u001b[2K     \u001b[90m━━━━━━━━━━━━━━━━━━━━━━━━━━━━━━━━━━━━━━\u001b[0m \u001b[32m149.6/149.6 kB\u001b[0m \u001b[31m21.6 MB/s\u001b[0m eta \u001b[36m0:00:00\u001b[0m\n",
            "\u001b[?25hCollecting aiosignal>=1.1.2 (from aiohttp->datasets<3.0.0,>=2.0.0->transformer-smaller-training-vocab>=0.2.1->flair)\n",
            "  Downloading aiosignal-1.3.1-py3-none-any.whl (7.6 kB)\n",
            "Requirement already satisfied: pytz>=2020.1 in /usr/local/lib/python3.10/dist-packages (from pandas->datasets<3.0.0,>=2.0.0->transformer-smaller-training-vocab>=0.2.1->flair) (2022.7.1)\n",
            "Building wheels for collected packages: gdown, mpld3, sqlitedict, langdetect, pptree\n",
            "  Building wheel for gdown (pyproject.toml) ... \u001b[?25l\u001b[?25hdone\n",
            "  Created wheel for gdown: filename=gdown-4.4.0-py3-none-any.whl size=14759 sha256=c807d0a7fd44b7a8a72ed46c79b083391875423781080035fe6b549dbca6dd87\n",
            "  Stored in directory: /root/.cache/pip/wheels/03/0b/3f/6ddf67a417a5b400b213b0bb772a50276c199a386b12c06bfc\n",
            "  Building wheel for mpld3 (setup.py) ... \u001b[?25l\u001b[?25hdone\n",
            "  Created wheel for mpld3: filename=mpld3-0.3-py3-none-any.whl size=116685 sha256=aef9b300336504174b19a320fa39f56884549c09fba3c14325e66469cfffa969\n",
            "  Stored in directory: /root/.cache/pip/wheels/9c/92/f7/45d9aac5dcfb1c2a1761a272365599cc7ba1050ce211a3fd9a\n",
            "  Building wheel for sqlitedict (setup.py) ... \u001b[?25l\u001b[?25hdone\n",
            "  Created wheel for sqlitedict: filename=sqlitedict-2.1.0-py3-none-any.whl size=16863 sha256=25f02cf5cf94df15aed64cbe19d7b3841ba66844346fe9a519514ee2759b9659\n",
            "  Stored in directory: /root/.cache/pip/wheels/79/d6/e7/304e0e6cb2221022c26d8161f7c23cd4f259a9e41e8bbcfabd\n",
            "  Building wheel for langdetect (setup.py) ... \u001b[?25l\u001b[?25hdone\n",
            "  Created wheel for langdetect: filename=langdetect-1.0.9-py3-none-any.whl size=993224 sha256=5683f98def3749ffeec74966d050fb97ab4e09f786c7743921e4d4462302d87d\n",
            "  Stored in directory: /root/.cache/pip/wheels/95/03/7d/59ea870c70ce4e5a370638b5462a7711ab78fba2f655d05106\n",
            "  Building wheel for pptree (setup.py) ... \u001b[?25l\u001b[?25hdone\n",
            "  Created wheel for pptree: filename=pptree-3.1-py3-none-any.whl size=4609 sha256=66ed86b4a0097d1de150efb459374df2516654b233c05c90f30561798f39a999\n",
            "  Stored in directory: /root/.cache/pip/wheels/9f/b6/0e/6f26eb9e6eb53ff2107a7888d72b5a6a597593956113037828\n",
            "Successfully built gdown mpld3 sqlitedict langdetect pptree\n",
            "Installing collected packages: tokenizers, sqlitedict, sentencepiece, pptree, mpld3, janome, xxhash, segtok, protobuf, multidict, langdetect, jmespath, ftfy, frozenlist, dill, deprecated, conllu, async-timeout, yarl, wikipedia-api, responses, multiprocess, huggingface-hub, botocore, aiosignal, transformers, s3transfer, gdown, bpemb, aiohttp, boto3, datasets, accelerate, transformer-smaller-training-vocab, pytorch-revgrad, flair\n",
            "  Attempting uninstall: protobuf\n",
            "    Found existing installation: protobuf 3.20.3\n",
            "    Uninstalling protobuf-3.20.3:\n",
            "      Successfully uninstalled protobuf-3.20.3\n",
            "  Attempting uninstall: gdown\n",
            "    Found existing installation: gdown 4.6.6\n",
            "    Uninstalling gdown-4.6.6:\n",
            "      Successfully uninstalled gdown-4.6.6\n",
            "\u001b[31mERROR: pip's dependency resolver does not currently take into account all the packages that are installed. This behaviour is the source of the following dependency conflicts.\n",
            "tensorflow 2.12.0 requires protobuf!=4.21.0,!=4.21.1,!=4.21.2,!=4.21.3,!=4.21.4,!=4.21.5,<5.0.0dev,>=3.20.3, but you have protobuf 3.20.2 which is incompatible.\n",
            "tensorflow-metadata 1.13.1 requires protobuf<5,>=3.20.3, but you have protobuf 3.20.2 which is incompatible.\u001b[0m\u001b[31m\n",
            "\u001b[0mSuccessfully installed accelerate-0.19.0 aiohttp-3.8.4 aiosignal-1.3.1 async-timeout-4.0.2 boto3-1.26.132 botocore-1.29.132 bpemb-0.3.4 conllu-4.5.2 datasets-2.12.0 deprecated-1.2.13 dill-0.3.6 flair-0.12.2 frozenlist-1.3.3 ftfy-6.1.1 gdown-4.4.0 huggingface-hub-0.14.1 janome-0.4.2 jmespath-1.0.1 langdetect-1.0.9 mpld3-0.3 multidict-6.0.4 multiprocess-0.70.14 pptree-3.1 protobuf-3.20.2 pytorch-revgrad-0.2.0 responses-0.18.0 s3transfer-0.6.1 segtok-1.5.11 sentencepiece-0.1.99 sqlitedict-2.1.0 tokenizers-0.13.3 transformer-smaller-training-vocab-0.2.3 transformers-4.29.0 wikipedia-api-0.5.8 xxhash-3.2.0 yarl-1.9.2\n"
          ]
        },
        {
          "output_type": "display_data",
          "data": {
            "application/vnd.colab-display-data+json": {
              "pip_warning": {
                "packages": [
                  "google"
                ]
              }
            }
          },
          "metadata": {}
        }
      ],
      "source": [
        "!pip install flair\n"
      ]
    },
    {
      "cell_type": "code",
      "source": [
        "import pandas as pd\n",
        "import numpy as np"
      ],
      "metadata": {
        "id": "qFxVJVFZlvVH"
      },
      "execution_count": null,
      "outputs": []
    },
    {
      "cell_type": "code",
      "source": [
        "idfc_train = pd.read_csv(\"/content/idfc-email-train.csv\")\n",
        "idfc_test = pd.read_csv(\"/content/idfc-email-test.csv\")"
      ],
      "metadata": {
        "id": "rLuHR7eLlgFT"
      },
      "execution_count": null,
      "outputs": []
    },
    {
      "cell_type": "code",
      "source": [
        "#change the order of column in idfc data\n",
        "idfc_train = idfc_train .iloc[:,[1,0]]\n",
        "idfc_test = idfc_test.iloc[:, [1,0]]"
      ],
      "metadata": {
        "id": "wl7ItcWVmFKD"
      },
      "execution_count": null,
      "outputs": []
    },
    {
      "cell_type": "code",
      "source": [
        "idfc_train.columns  = ['text', 'label']\n",
        "idfc_test.columns  = ['text', 'label']"
      ],
      "metadata": {
        "id": "o0EPc5lcmFsc"
      },
      "execution_count": null,
      "outputs": []
    },
    {
      "cell_type": "code",
      "source": [
        "from sklearn.model_selection import train_test_split\n"
      ],
      "metadata": {
        "id": "bux_l_gpnWED"
      },
      "execution_count": null,
      "outputs": []
    },
    {
      "cell_type": "code",
      "source": [
        "train_data = idfc_train\n",
        "test_data = idfc_test"
      ],
      "metadata": {
        "id": "I2VJf3cPntUy"
      },
      "execution_count": 40,
      "outputs": []
    },
    {
      "cell_type": "code",
      "source": [
        "mkdir -p data_fst\n"
      ],
      "metadata": {
        "id": "CwieS8iXmIMg"
      },
      "execution_count": null,
      "outputs": []
    },
    {
      "cell_type": "code",
      "source": [
        "print(train_data.shape)\n",
        "print(test_data.shape)\n"
      ],
      "metadata": {
        "colab": {
          "base_uri": "https://localhost:8080/"
        },
        "id": "eERvqRCOnzt_",
        "outputId": "d703ffd7-74fa-47bf-853a-25e902f1d3b1"
      },
      "execution_count": 41,
      "outputs": [
        {
          "output_type": "stream",
          "name": "stdout",
          "text": [
            "(1440, 2)\n",
            "(360, 2)\n"
          ]
        }
      ]
    },
    {
      "cell_type": "code",
      "source": [
        "train_data.to_csv(\"data_fst/train.csv\")\n",
        "test_data.to_csv(\"data_fst/test.csv\")\n"
      ],
      "metadata": {
        "id": "4H8W8xgin80k"
      },
      "execution_count": 83,
      "outputs": []
    },
    {
      "cell_type": "code",
      "source": [
        "import flair"
      ],
      "metadata": {
        "id": "5zq35As_oLIw"
      },
      "execution_count": null,
      "outputs": []
    },
    {
      "cell_type": "code",
      "source": [
        "from flair.datasets import ClassificationCorpus,CSVClassificationCorpus\n",
        "from flair.data import Corpus"
      ],
      "metadata": {
        "id": "8uCtyyLaoGwY"
      },
      "execution_count": 84,
      "outputs": []
    },
    {
      "cell_type": "code",
      "source": [
        "column_name_map = {2:\"label_topic\",1:\"text\"}\n"
      ],
      "metadata": {
        "id": "usB7_kd9oOcL"
      },
      "execution_count": null,
      "outputs": []
    },
    {
      "cell_type": "code",
      "source": [
        "data_folder = '/content/data_fst/'\n"
      ],
      "metadata": {
        "id": "SfrwR7rioHF9"
      },
      "execution_count": null,
      "outputs": []
    },
    {
      "cell_type": "code",
      "source": [
        "corpus_csv: Corpus = CSVClassificationCorpus(data_folder,column_name_map=column_name_map,skip_header=True, label_type='topic', delimiter=',')\n"
      ],
      "metadata": {
        "colab": {
          "base_uri": "https://localhost:8080/"
        },
        "id": "TpnWMSoUo824",
        "outputId": "fddc6e08-0961-4873-b1a3-650c66e73793"
      },
      "execution_count": 144,
      "outputs": [
        {
          "output_type": "stream",
          "name": "stdout",
          "text": [
            "2023-05-11 11:52:12,719 Reading data from /content/data_fst\n",
            "2023-05-11 11:52:12,721 Train: /content/data_fst/train.csv\n",
            "2023-05-11 11:52:12,722 Dev: None\n",
            "2023-05-11 11:52:12,724 Test: /content/data_fst/test.csv\n"
          ]
        }
      ]
    },
    {
      "cell_type": "code",
      "source": [
        "label_dict_csv = corpus_csv.make_label_dictionary(label_type = 'topic')\n"
      ],
      "metadata": {
        "colab": {
          "base_uri": "https://localhost:8080/"
        },
        "id": "4RE8SQGuo9Vs",
        "outputId": "78042d1a-d296-4203-8926-d099b558664a"
      },
      "execution_count": 145,
      "outputs": [
        {
          "output_type": "stream",
          "name": "stdout",
          "text": [
            "2023-05-11 11:52:17,967 Computing label dictionary. Progress:\n"
          ]
        },
        {
          "output_type": "stream",
          "name": "stderr",
          "text": [
            "1296it [00:03, 351.09it/s]"
          ]
        },
        {
          "output_type": "stream",
          "name": "stdout",
          "text": [
            "2023-05-11 11:52:21,664 Dictionary created for label 'topic' with 7 values: Debit Card Offers (seen 223 times), Fund Transfer (seen 221 times), Matured Loan Closure (seen 218 times), Card Application Status (seen 214 times), Other Bank Charges (seen 214 times), Application Rejected (seen 206 times)\n"
          ]
        },
        {
          "output_type": "stream",
          "name": "stderr",
          "text": [
            "\n"
          ]
        }
      ]
    },
    {
      "cell_type": "code",
      "source": [
        "!pip install sentence-transformers"
      ],
      "metadata": {
        "colab": {
          "base_uri": "https://localhost:8080/"
        },
        "id": "-MgTx4mi3hyq",
        "outputId": "50584bef-7c0f-4d28-b1d9-eaf285043fed"
      },
      "execution_count": 89,
      "outputs": [
        {
          "output_type": "stream",
          "name": "stdout",
          "text": [
            "Looking in indexes: https://pypi.org/simple, https://us-python.pkg.dev/colab-wheels/public/simple/\n",
            "Requirement already satisfied: sentence-transformers in /usr/local/lib/python3.10/dist-packages (2.2.2)\n",
            "Requirement already satisfied: transformers<5.0.0,>=4.6.0 in /usr/local/lib/python3.10/dist-packages (from sentence-transformers) (4.29.0)\n",
            "Requirement already satisfied: tqdm in /usr/local/lib/python3.10/dist-packages (from sentence-transformers) (4.65.0)\n",
            "Requirement already satisfied: torch>=1.6.0 in /usr/local/lib/python3.10/dist-packages (from sentence-transformers) (2.0.0+cu118)\n",
            "Requirement already satisfied: torchvision in /usr/local/lib/python3.10/dist-packages (from sentence-transformers) (0.15.1+cu118)\n",
            "Requirement already satisfied: numpy in /usr/local/lib/python3.10/dist-packages (from sentence-transformers) (1.22.4)\n",
            "Requirement already satisfied: scikit-learn in /usr/local/lib/python3.10/dist-packages (from sentence-transformers) (1.2.2)\n",
            "Requirement already satisfied: scipy in /usr/local/lib/python3.10/dist-packages (from sentence-transformers) (1.10.1)\n",
            "Requirement already satisfied: nltk in /usr/local/lib/python3.10/dist-packages (from sentence-transformers) (3.8.1)\n",
            "Requirement already satisfied: sentencepiece in /usr/local/lib/python3.10/dist-packages (from sentence-transformers) (0.1.99)\n",
            "Requirement already satisfied: huggingface-hub>=0.4.0 in /usr/local/lib/python3.10/dist-packages (from sentence-transformers) (0.14.1)\n",
            "Requirement already satisfied: filelock in /usr/local/lib/python3.10/dist-packages (from huggingface-hub>=0.4.0->sentence-transformers) (3.12.0)\n",
            "Requirement already satisfied: fsspec in /usr/local/lib/python3.10/dist-packages (from huggingface-hub>=0.4.0->sentence-transformers) (2023.4.0)\n",
            "Requirement already satisfied: requests in /usr/local/lib/python3.10/dist-packages (from huggingface-hub>=0.4.0->sentence-transformers) (2.27.1)\n",
            "Requirement already satisfied: pyyaml>=5.1 in /usr/local/lib/python3.10/dist-packages (from huggingface-hub>=0.4.0->sentence-transformers) (6.0)\n",
            "Requirement already satisfied: typing-extensions>=3.7.4.3 in /usr/local/lib/python3.10/dist-packages (from huggingface-hub>=0.4.0->sentence-transformers) (4.5.0)\n",
            "Requirement already satisfied: packaging>=20.9 in /usr/local/lib/python3.10/dist-packages (from huggingface-hub>=0.4.0->sentence-transformers) (23.1)\n",
            "Requirement already satisfied: sympy in /usr/local/lib/python3.10/dist-packages (from torch>=1.6.0->sentence-transformers) (1.11.1)\n",
            "Requirement already satisfied: networkx in /usr/local/lib/python3.10/dist-packages (from torch>=1.6.0->sentence-transformers) (3.1)\n",
            "Requirement already satisfied: jinja2 in /usr/local/lib/python3.10/dist-packages (from torch>=1.6.0->sentence-transformers) (3.1.2)\n",
            "Requirement already satisfied: triton==2.0.0 in /usr/local/lib/python3.10/dist-packages (from torch>=1.6.0->sentence-transformers) (2.0.0)\n",
            "Requirement already satisfied: cmake in /usr/local/lib/python3.10/dist-packages (from triton==2.0.0->torch>=1.6.0->sentence-transformers) (3.25.2)\n",
            "Requirement already satisfied: lit in /usr/local/lib/python3.10/dist-packages (from triton==2.0.0->torch>=1.6.0->sentence-transformers) (16.0.3)\n",
            "Requirement already satisfied: regex!=2019.12.17 in /usr/local/lib/python3.10/dist-packages (from transformers<5.0.0,>=4.6.0->sentence-transformers) (2022.10.31)\n",
            "Requirement already satisfied: tokenizers!=0.11.3,<0.14,>=0.11.1 in /usr/local/lib/python3.10/dist-packages (from transformers<5.0.0,>=4.6.0->sentence-transformers) (0.13.3)\n",
            "Requirement already satisfied: click in /usr/local/lib/python3.10/dist-packages (from nltk->sentence-transformers) (8.1.3)\n",
            "Requirement already satisfied: joblib in /usr/local/lib/python3.10/dist-packages (from nltk->sentence-transformers) (1.2.0)\n",
            "Requirement already satisfied: threadpoolctl>=2.0.0 in /usr/local/lib/python3.10/dist-packages (from scikit-learn->sentence-transformers) (3.1.0)\n",
            "Requirement already satisfied: pillow!=8.3.*,>=5.3.0 in /usr/local/lib/python3.10/dist-packages (from torchvision->sentence-transformers) (8.4.0)\n",
            "Requirement already satisfied: MarkupSafe>=2.0 in /usr/local/lib/python3.10/dist-packages (from jinja2->torch>=1.6.0->sentence-transformers) (2.1.2)\n",
            "Requirement already satisfied: urllib3<1.27,>=1.21.1 in /usr/local/lib/python3.10/dist-packages (from requests->huggingface-hub>=0.4.0->sentence-transformers) (1.26.15)\n",
            "Requirement already satisfied: certifi>=2017.4.17 in /usr/local/lib/python3.10/dist-packages (from requests->huggingface-hub>=0.4.0->sentence-transformers) (2022.12.7)\n",
            "Requirement already satisfied: charset-normalizer~=2.0.0 in /usr/local/lib/python3.10/dist-packages (from requests->huggingface-hub>=0.4.0->sentence-transformers) (2.0.12)\n",
            "Requirement already satisfied: idna<4,>=2.5 in /usr/local/lib/python3.10/dist-packages (from requests->huggingface-hub>=0.4.0->sentence-transformers) (3.4)\n",
            "Requirement already satisfied: mpmath>=0.19 in /usr/local/lib/python3.10/dist-packages (from sympy->torch>=1.6.0->sentence-transformers) (1.3.0)\n"
          ]
        }
      ]
    },
    {
      "cell_type": "code",
      "source": [
        "from flair.embeddings import SentenceTransformerDocumentEmbeddings\n",
        "from flair.models import TextClassifier\n",
        "from flair.trainers import ModelTrainer\n",
        "from pathlib import Path\n",
        "from flair.embeddings import TransformerDocumentEmbeddings"
      ],
      "metadata": {
        "id": "sIeGHAWSp-kW"
      },
      "execution_count": 152,
      "outputs": []
    },
    {
      "cell_type": "code",
      "source": [
        "# document_embeddings = TransformerDocumentEmbeddings('distilbert-base-uncased', fine_tune=True)\n",
        "\n",
        "document_embeddings = SentenceTransformerDocumentEmbeddings('sentence-transformers/bert-base-nli-mean-tokens')\n",
        "# document_embeddings = SentenceTransformerDocumentEmbeddings('sentence-transformers/distiluse-base-multilingual-cased-v2')\n",
        "\n",
        "# document_embeddings = SentenceTransformerDocumentEmbeddings('sentence-transformers/paraphrase-multilingual-MiniLM-L12-v2')\n",
        "\n",
        "# document_embeddings = SentenceTransformerDocumentEmbeddings('sentence-transformers/all-MiniLM-L6-v2')\n",
        "\n",
        "# document_embeddings = SentenceTransformerDocumentEmbeddings('sentence-transformers/all-mpnet-base-v2')\n",
        "\n",
        "\n"
      ],
      "metadata": {
        "id": "wYfFDaTAqJaf"
      },
      "execution_count": 154,
      "outputs": []
    },
    {
      "cell_type": "code",
      "source": [
        "classifier = TextClassifier(document_embeddings, label_dictionary=label_dict_csv, multi_label=False, label_type=\"topic\")\n"
      ],
      "metadata": {
        "id": "88G-vVBAqShx"
      },
      "execution_count": 155,
      "outputs": []
    },
    {
      "cell_type": "code",
      "source": [
        "trainer = ModelTrainer(classifier, corpus_csv)\n"
      ],
      "metadata": {
        "id": "zxU0GKXXqb2g"
      },
      "execution_count": 156,
      "outputs": []
    },
    {
      "cell_type": "code",
      "source": [
        "import torch\n",
        "torch.cuda.empty_cache()"
      ],
      "metadata": {
        "id": "jv-KZjBmsLrM"
      },
      "execution_count": 157,
      "outputs": []
    },
    {
      "cell_type": "code",
      "source": [
        "trainer.train(data_folder,\n",
        "              learning_rate=0.05,\n",
        "              mini_batch_size=10,\n",
        "              max_epochs=5)"
      ],
      "metadata": {
        "colab": {
          "base_uri": "https://localhost:8080/"
        },
        "id": "x1r_bmLPqhEn",
        "outputId": "80db6898-981a-40d0-c47a-bbff3cf982c4"
      },
      "execution_count": 158,
      "outputs": [
        {
          "output_type": "stream",
          "name": "stdout",
          "text": [
            "2023-05-11 11:58:13,517 ----------------------------------------------------------------------------------------------------\n",
            "2023-05-11 11:58:13,523 Model: \"TextClassifier(\n",
            "  (embeddings): TransformerDocumentEmbeddings(\n",
            "    (model): DistilBertModel(\n",
            "      (embeddings): Embeddings(\n",
            "        (word_embeddings): Embedding(30523, 768)\n",
            "        (position_embeddings): Embedding(512, 768)\n",
            "        (LayerNorm): LayerNorm((768,), eps=1e-12, elementwise_affine=True)\n",
            "        (dropout): Dropout(p=0.1, inplace=False)\n",
            "      )\n",
            "      (transformer): Transformer(\n",
            "        (layer): ModuleList(\n",
            "          (0-5): 6 x TransformerBlock(\n",
            "            (attention): MultiHeadSelfAttention(\n",
            "              (dropout): Dropout(p=0.1, inplace=False)\n",
            "              (q_lin): Linear(in_features=768, out_features=768, bias=True)\n",
            "              (k_lin): Linear(in_features=768, out_features=768, bias=True)\n",
            "              (v_lin): Linear(in_features=768, out_features=768, bias=True)\n",
            "              (out_lin): Linear(in_features=768, out_features=768, bias=True)\n",
            "            )\n",
            "            (sa_layer_norm): LayerNorm((768,), eps=1e-12, elementwise_affine=True)\n",
            "            (ffn): FFN(\n",
            "              (dropout): Dropout(p=0.1, inplace=False)\n",
            "              (lin1): Linear(in_features=768, out_features=3072, bias=True)\n",
            "              (lin2): Linear(in_features=3072, out_features=768, bias=True)\n",
            "              (activation): GELUActivation()\n",
            "            )\n",
            "            (output_layer_norm): LayerNorm((768,), eps=1e-12, elementwise_affine=True)\n",
            "          )\n",
            "        )\n",
            "      )\n",
            "    )\n",
            "  )\n",
            "  (decoder): Linear(in_features=768, out_features=7, bias=True)\n",
            "  (dropout): Dropout(p=0.0, inplace=False)\n",
            "  (locked_dropout): LockedDropout(p=0.0)\n",
            "  (word_dropout): WordDropout(p=0.0)\n",
            "  (loss_function): CrossEntropyLoss()\n",
            "  (weights): None\n",
            "  (weight_tensor) None\n",
            ")\"\n",
            "2023-05-11 11:58:13,528 ----------------------------------------------------------------------------------------------------\n",
            "2023-05-11 11:58:13,532 Corpus: \"Corpus: 1296 train + 144 dev + 360 test sentences\"\n",
            "2023-05-11 11:58:13,536 ----------------------------------------------------------------------------------------------------\n",
            "2023-05-11 11:58:13,539 Parameters:\n",
            "2023-05-11 11:58:13,542  - learning_rate: \"0.050000\"\n",
            "2023-05-11 11:58:13,547  - mini_batch_size: \"10\"\n",
            "2023-05-11 11:58:13,549  - patience: \"3\"\n",
            "2023-05-11 11:58:13,553  - anneal_factor: \"0.5\"\n",
            "2023-05-11 11:58:13,556  - max_epochs: \"5\"\n",
            "2023-05-11 11:58:13,560  - shuffle: \"True\"\n",
            "2023-05-11 11:58:13,563  - train_with_dev: \"False\"\n",
            "2023-05-11 11:58:13,564  - batch_growth_annealing: \"False\"\n",
            "2023-05-11 11:58:13,567 ----------------------------------------------------------------------------------------------------\n",
            "2023-05-11 11:58:13,571 Model training base path: \"/content/data_fst\"\n",
            "2023-05-11 11:58:13,575 ----------------------------------------------------------------------------------------------------\n",
            "2023-05-11 11:58:13,576 Device: cuda:0\n",
            "2023-05-11 11:58:13,580 ----------------------------------------------------------------------------------------------------\n",
            "2023-05-11 11:58:13,581 Embeddings storage mode: cpu\n",
            "2023-05-11 11:58:13,585 ----------------------------------------------------------------------------------------------------\n",
            "2023-05-11 11:58:17,405 epoch 1 - iter 13/130 - loss 0.13810903 - time (sec): 3.82 - samples/sec: 34.04 - lr: 0.050000\n",
            "2023-05-11 11:58:22,032 epoch 1 - iter 26/130 - loss 0.34154769 - time (sec): 8.45 - samples/sec: 30.78 - lr: 0.050000\n",
            "2023-05-11 11:58:25,133 epoch 1 - iter 39/130 - loss 0.22771710 - time (sec): 11.55 - samples/sec: 33.78 - lr: 0.050000\n",
            "2023-05-11 11:58:30,460 epoch 1 - iter 52/130 - loss 0.49004053 - time (sec): 16.87 - samples/sec: 30.82 - lr: 0.050000\n",
            "2023-05-11 11:58:36,575 epoch 1 - iter 65/130 - loss 0.51683110 - time (sec): 22.99 - samples/sec: 28.27 - lr: 0.050000\n",
            "2023-05-11 11:58:42,560 epoch 1 - iter 78/130 - loss 0.45326473 - time (sec): 28.97 - samples/sec: 26.92 - lr: 0.050000\n",
            "2023-05-11 11:58:47,533 epoch 1 - iter 91/130 - loss 0.48389570 - time (sec): 33.95 - samples/sec: 26.81 - lr: 0.050000\n",
            "2023-05-11 11:58:51,708 epoch 1 - iter 104/130 - loss 0.42342689 - time (sec): 38.12 - samples/sec: 27.28 - lr: 0.050000\n",
            "2023-05-11 11:58:57,564 epoch 1 - iter 117/130 - loss 0.46751590 - time (sec): 43.98 - samples/sec: 26.60 - lr: 0.050000\n",
            "2023-05-11 11:59:02,834 epoch 1 - iter 130/130 - loss 0.42207229 - time (sec): 49.25 - samples/sec: 26.32 - lr: 0.050000\n",
            "2023-05-11 11:59:02,837 ----------------------------------------------------------------------------------------------------\n",
            "2023-05-11 11:59:02,840 EPOCH 1 done: loss 0.4221 - lr 0.050000\n"
          ]
        },
        {
          "output_type": "stream",
          "name": "stderr",
          "text": [
            "100%|██████████| 15/15 [00:02<00:00,  6.35it/s]"
          ]
        },
        {
          "output_type": "stream",
          "name": "stdout",
          "text": [
            "2023-05-11 11:59:05,212 Evaluating as a multi-label problem: False\n",
            "2023-05-11 11:59:05,234 DEV : loss 10.002354621887207 - f1-score (micro avg)  0.1806\n"
          ]
        },
        {
          "output_type": "stream",
          "name": "stderr",
          "text": [
            "\n"
          ]
        },
        {
          "output_type": "stream",
          "name": "stdout",
          "text": [
            "2023-05-11 11:59:05,628 BAD EPOCHS (no improvement): 0\n",
            "2023-05-11 11:59:05,633 saving best model\n",
            "2023-05-11 11:59:06,397 ----------------------------------------------------------------------------------------------------\n",
            "2023-05-11 11:59:11,823 epoch 2 - iter 13/130 - loss 2.91694552 - time (sec): 5.42 - samples/sec: 23.97 - lr: 0.050000\n",
            "2023-05-11 11:59:17,233 epoch 2 - iter 26/130 - loss 2.43109579 - time (sec): 10.83 - samples/sec: 24.00 - lr: 0.050000\n",
            "2023-05-11 11:59:22,030 epoch 2 - iter 39/130 - loss 2.20828709 - time (sec): 15.63 - samples/sec: 24.95 - lr: 0.050000\n",
            "2023-05-11 11:59:25,904 epoch 2 - iter 52/130 - loss 1.96433931 - time (sec): 19.50 - samples/sec: 26.66 - lr: 0.050000\n",
            "2023-05-11 11:59:30,523 epoch 2 - iter 65/130 - loss 1.75897034 - time (sec): 24.12 - samples/sec: 26.94 - lr: 0.050000\n",
            "2023-05-11 11:59:35,700 epoch 2 - iter 78/130 - loss 1.58488538 - time (sec): 29.30 - samples/sec: 26.62 - lr: 0.050000\n",
            "2023-05-11 11:59:41,523 epoch 2 - iter 91/130 - loss 1.46733539 - time (sec): 35.12 - samples/sec: 25.91 - lr: 0.050000\n",
            "2023-05-11 11:59:47,078 epoch 2 - iter 104/130 - loss 1.40096210 - time (sec): 40.68 - samples/sec: 25.57 - lr: 0.050000\n",
            "2023-05-11 11:59:51,762 epoch 2 - iter 117/130 - loss 1.33052049 - time (sec): 45.36 - samples/sec: 25.79 - lr: 0.050000\n",
            "2023-05-11 11:59:56,128 epoch 2 - iter 130/130 - loss 1.27096448 - time (sec): 49.73 - samples/sec: 26.06 - lr: 0.050000\n",
            "2023-05-11 11:59:56,131 ----------------------------------------------------------------------------------------------------\n",
            "2023-05-11 11:59:56,133 EPOCH 2 done: loss 1.2710 - lr 0.050000\n"
          ]
        },
        {
          "output_type": "stream",
          "name": "stderr",
          "text": [
            "100%|██████████| 15/15 [00:02<00:00,  7.25it/s]"
          ]
        },
        {
          "output_type": "stream",
          "name": "stdout",
          "text": [
            "2023-05-11 11:59:58,210 Evaluating as a multi-label problem: False\n",
            "2023-05-11 11:59:58,225 DEV : loss 0.6676851511001587 - f1-score (micro avg)  0.6875\n"
          ]
        },
        {
          "output_type": "stream",
          "name": "stderr",
          "text": [
            "\n"
          ]
        },
        {
          "output_type": "stream",
          "name": "stdout",
          "text": [
            "2023-05-11 11:59:58,442 BAD EPOCHS (no improvement): 0\n",
            "2023-05-11 11:59:58,444 saving best model\n",
            "2023-05-11 11:59:59,181 ----------------------------------------------------------------------------------------------------\n",
            "2023-05-11 12:00:05,494 epoch 3 - iter 13/130 - loss 0.63847649 - time (sec): 6.31 - samples/sec: 20.60 - lr: 0.050000\n",
            "2023-05-11 12:00:10,646 epoch 3 - iter 26/130 - loss 0.63221073 - time (sec): 11.46 - samples/sec: 22.68 - lr: 0.050000\n",
            "2023-05-11 12:00:15,295 epoch 3 - iter 39/130 - loss 0.62950809 - time (sec): 16.11 - samples/sec: 24.20 - lr: 0.050000\n",
            "2023-05-11 12:00:20,038 epoch 3 - iter 52/130 - loss 0.64586807 - time (sec): 20.85 - samples/sec: 24.93 - lr: 0.050000\n",
            "2023-05-11 12:00:24,825 epoch 3 - iter 65/130 - loss 0.64281471 - time (sec): 25.64 - samples/sec: 25.35 - lr: 0.050000\n",
            "2023-05-11 12:00:29,950 epoch 3 - iter 78/130 - loss 0.62443048 - time (sec): 30.77 - samples/sec: 25.35 - lr: 0.050000\n",
            "2023-05-11 12:00:35,076 epoch 3 - iter 91/130 - loss 0.63417034 - time (sec): 35.89 - samples/sec: 25.35 - lr: 0.050000\n",
            "2023-05-11 12:00:39,824 epoch 3 - iter 104/130 - loss 0.63095226 - time (sec): 40.64 - samples/sec: 25.59 - lr: 0.050000\n",
            "2023-05-11 12:00:44,527 epoch 3 - iter 117/130 - loss 0.64027315 - time (sec): 45.34 - samples/sec: 25.80 - lr: 0.050000\n",
            "2023-05-11 12:00:48,378 epoch 3 - iter 130/130 - loss 0.64965762 - time (sec): 49.19 - samples/sec: 26.34 - lr: 0.050000\n",
            "2023-05-11 12:00:48,380 ----------------------------------------------------------------------------------------------------\n",
            "2023-05-11 12:00:48,383 EPOCH 3 done: loss 0.6497 - lr 0.050000\n"
          ]
        },
        {
          "output_type": "stream",
          "name": "stderr",
          "text": [
            "100%|██████████| 15/15 [00:02<00:00,  7.30it/s]"
          ]
        },
        {
          "output_type": "stream",
          "name": "stdout",
          "text": [
            "2023-05-11 12:00:50,450 Evaluating as a multi-label problem: False\n",
            "2023-05-11 12:00:50,467 DEV : loss 0.5106480717658997 - f1-score (micro avg)  0.75\n"
          ]
        },
        {
          "output_type": "stream",
          "name": "stderr",
          "text": [
            "\n"
          ]
        },
        {
          "output_type": "stream",
          "name": "stdout",
          "text": [
            "2023-05-11 12:00:50,699 BAD EPOCHS (no improvement): 0\n",
            "2023-05-11 12:00:50,700 saving best model\n",
            "2023-05-11 12:00:51,477 ----------------------------------------------------------------------------------------------------\n",
            "2023-05-11 12:00:57,274 epoch 4 - iter 13/130 - loss 0.52668379 - time (sec): 5.79 - samples/sec: 22.45 - lr: 0.050000\n",
            "2023-05-11 12:01:02,336 epoch 4 - iter 26/130 - loss 0.48372405 - time (sec): 10.85 - samples/sec: 23.96 - lr: 0.050000\n",
            "2023-05-11 12:01:07,721 epoch 4 - iter 39/130 - loss 0.45340422 - time (sec): 16.24 - samples/sec: 24.02 - lr: 0.050000\n",
            "2023-05-11 12:01:12,500 epoch 4 - iter 52/130 - loss 0.49717484 - time (sec): 21.02 - samples/sec: 24.74 - lr: 0.050000\n",
            "2023-05-11 12:01:17,291 epoch 4 - iter 65/130 - loss 0.49581664 - time (sec): 25.81 - samples/sec: 25.19 - lr: 0.050000\n",
            "2023-05-11 12:01:21,137 epoch 4 - iter 78/130 - loss 0.49805040 - time (sec): 29.65 - samples/sec: 26.30 - lr: 0.050000\n",
            "2023-05-11 12:01:25,765 epoch 4 - iter 91/130 - loss 0.48724818 - time (sec): 34.28 - samples/sec: 26.55 - lr: 0.050000\n",
            "2023-05-11 12:01:31,428 epoch 4 - iter 104/130 - loss 0.49521716 - time (sec): 39.94 - samples/sec: 26.04 - lr: 0.050000\n",
            "2023-05-11 12:01:36,195 epoch 4 - iter 117/130 - loss 0.50373330 - time (sec): 44.71 - samples/sec: 26.17 - lr: 0.050000\n",
            "2023-05-11 12:01:40,528 epoch 4 - iter 130/130 - loss 0.50709384 - time (sec): 49.04 - samples/sec: 26.43 - lr: 0.050000\n",
            "2023-05-11 12:01:40,533 ----------------------------------------------------------------------------------------------------\n",
            "2023-05-11 12:01:40,535 EPOCH 4 done: loss 0.5071 - lr 0.050000\n"
          ]
        },
        {
          "output_type": "stream",
          "name": "stderr",
          "text": [
            "100%|██████████| 15/15 [00:02<00:00,  6.33it/s]"
          ]
        },
        {
          "output_type": "stream",
          "name": "stdout",
          "text": [
            "2023-05-11 12:01:42,912 Evaluating as a multi-label problem: False\n",
            "2023-05-11 12:01:42,935 DEV : loss 0.5412343144416809 - f1-score (micro avg)  0.7847\n"
          ]
        },
        {
          "output_type": "stream",
          "name": "stderr",
          "text": [
            "\n"
          ]
        },
        {
          "output_type": "stream",
          "name": "stdout",
          "text": [
            "2023-05-11 12:01:43,200 BAD EPOCHS (no improvement): 0\n",
            "2023-05-11 12:01:43,202 saving best model\n",
            "2023-05-11 12:01:43,943 ----------------------------------------------------------------------------------------------------\n",
            "2023-05-11 12:01:49,724 epoch 5 - iter 13/130 - loss 0.31565733 - time (sec): 5.78 - samples/sec: 22.49 - lr: 0.050000\n",
            "2023-05-11 12:01:54,796 epoch 5 - iter 26/130 - loss 0.36168731 - time (sec): 10.85 - samples/sec: 23.96 - lr: 0.050000\n",
            "2023-05-11 12:01:59,997 epoch 5 - iter 39/130 - loss 0.35119370 - time (sec): 16.05 - samples/sec: 24.30 - lr: 0.050000\n",
            "2023-05-11 12:02:05,309 epoch 5 - iter 52/130 - loss 0.36639073 - time (sec): 21.36 - samples/sec: 24.34 - lr: 0.050000\n",
            "2023-05-11 12:02:09,220 epoch 5 - iter 65/130 - loss 0.38379887 - time (sec): 25.27 - samples/sec: 25.72 - lr: 0.050000\n",
            "2023-05-11 12:02:14,168 epoch 5 - iter 78/130 - loss 0.39086132 - time (sec): 30.22 - samples/sec: 25.81 - lr: 0.050000\n",
            "2023-05-11 12:02:18,388 epoch 5 - iter 91/130 - loss 0.39622704 - time (sec): 34.44 - samples/sec: 26.42 - lr: 0.050000\n",
            "2023-05-11 12:02:24,083 epoch 5 - iter 104/130 - loss 0.41009403 - time (sec): 40.14 - samples/sec: 25.91 - lr: 0.050000\n",
            "2023-05-11 12:02:28,735 epoch 5 - iter 117/130 - loss 0.40023062 - time (sec): 44.79 - samples/sec: 26.12 - lr: 0.050000\n",
            "2023-05-11 12:02:33,045 epoch 5 - iter 130/130 - loss 0.40006981 - time (sec): 49.10 - samples/sec: 26.39 - lr: 0.050000\n",
            "2023-05-11 12:02:33,047 ----------------------------------------------------------------------------------------------------\n",
            "2023-05-11 12:02:33,052 EPOCH 5 done: loss 0.4001 - lr 0.050000\n"
          ]
        },
        {
          "output_type": "stream",
          "name": "stderr",
          "text": [
            "100%|██████████| 15/15 [00:02<00:00,  7.29it/s]"
          ]
        },
        {
          "output_type": "stream",
          "name": "stdout",
          "text": [
            "2023-05-11 12:02:35,119 Evaluating as a multi-label problem: False\n",
            "2023-05-11 12:02:35,134 DEV : loss 0.5655538439750671 - f1-score (micro avg)  0.7639\n"
          ]
        },
        {
          "output_type": "stream",
          "name": "stderr",
          "text": [
            "\n"
          ]
        },
        {
          "output_type": "stream",
          "name": "stdout",
          "text": [
            "2023-05-11 12:02:35,807 BAD EPOCHS (no improvement): 1\n",
            "2023-05-11 12:02:36,660 ----------------------------------------------------------------------------------------------------\n"
          ]
        },
        {
          "output_type": "stream",
          "name": "stderr",
          "text": [
            "100%|██████████| 36/36 [00:05<00:00,  7.01it/s]"
          ]
        },
        {
          "output_type": "stream",
          "name": "stdout",
          "text": [
            "2023-05-11 12:02:43,586 Evaluating as a multi-label problem: False\n",
            "2023-05-11 12:02:43,602 0.7917\t0.7917\t0.7917\t0.7917\n",
            "2023-05-11 12:02:43,603 \n",
            "Results:\n",
            "- F-score (micro) 0.7917\n",
            "- F-score (macro) 0.7843\n",
            "- Accuracy 0.7917\n",
            "\n",
            "By class:\n",
            "                         precision    recall  f1-score   support\n",
            "\n",
            "   Application Rejected     0.6076    0.8000    0.6906        60\n",
            "          Fund Transfer     0.7761    0.8667    0.8189        60\n",
            "      Debit Card Offers     0.8788    0.9667    0.9206        60\n",
            "   Matured Loan Closure     0.9231    1.0000    0.9600        60\n",
            "     Other Bank Charges     0.9767    0.7000    0.8155        60\n",
            "Card Application Status     0.6250    0.4167    0.5000        60\n",
            "\n",
            "               accuracy                         0.7917       360\n",
            "              macro avg     0.7979    0.7917    0.7843       360\n",
            "           weighted avg     0.7979    0.7917    0.7843       360\n",
            "\n",
            "2023-05-11 12:02:43,608 ----------------------------------------------------------------------------------------------------\n"
          ]
        },
        {
          "output_type": "stream",
          "name": "stderr",
          "text": [
            "\n"
          ]
        },
        {
          "output_type": "execute_result",
          "data": {
            "text/plain": [
              "{'test_score': 0.7916666666666666,\n",
              " 'dev_score_history': [0.18055555555555555,\n",
              "  0.6875,\n",
              "  0.75,\n",
              "  0.7847222222222222,\n",
              "  0.7638888888888888],\n",
              " 'train_loss_history': [0.4220722925309603,\n",
              "  1.2709644824082469,\n",
              "  0.6496576164377692,\n",
              "  0.5070938423827842,\n",
              "  0.40006980723069036],\n",
              " 'dev_loss_history': [10.002354621887207,\n",
              "  0.6676851511001587,\n",
              "  0.5106480717658997,\n",
              "  0.5412343144416809,\n",
              "  0.5655538439750671]}"
            ]
          },
          "metadata": {},
          "execution_count": 158
        }
      ]
    },
    {
      "cell_type": "code",
      "source": [
        "new_clf = TextClassifier.load('/content/data_fst/best-model.pt')\n"
      ],
      "metadata": {
        "id": "zEppfvXcvnV9"
      },
      "execution_count": 39,
      "outputs": []
    },
    {
      "cell_type": "code",
      "source": [],
      "metadata": {
        "id": "0LatVBp_vsT4"
      },
      "execution_count": null,
      "outputs": []
    }
  ]
}