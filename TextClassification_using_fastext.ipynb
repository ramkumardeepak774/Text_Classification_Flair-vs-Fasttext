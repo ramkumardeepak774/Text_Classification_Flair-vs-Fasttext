{
  "nbformat": 4,
  "nbformat_minor": 0,
  "metadata": {
    "colab": {
      "provenance": [],
      "authorship_tag": "ABX9TyOaCD8yUWLFPT80uhCaUCrE",
      "include_colab_link": true
    },
    "kernelspec": {
      "name": "python3",
      "display_name": "Python 3"
    },
    "language_info": {
      "name": "python"
    }
  },
  "cells": [
    {
      "cell_type": "markdown",
      "metadata": {
        "id": "view-in-github",
        "colab_type": "text"
      },
      "source": [
        "<a href=\"https://colab.research.google.com/github/ramkumardeepak774/Text_Classification_using_flair/blob/main/TextClassification_using_fastext.ipynb\" target=\"_parent\"><img src=\"https://colab.research.google.com/assets/colab-badge.svg\" alt=\"Open In Colab\"/></a>"
      ]
    },
    {
      "cell_type": "code",
      "source": [
        "pip install prenlp\n"
      ],
      "metadata": {
        "colab": {
          "base_uri": "https://localhost:8080/"
        },
        "id": "4ZfCy60uEylq",
        "outputId": "ac228d7f-d7c9-4e42-f5ce-6f74e0e45a1c"
      },
      "execution_count": 2,
      "outputs": [
        {
          "output_type": "stream",
          "name": "stdout",
          "text": [
            "Looking in indexes: https://pypi.org/simple, https://us-python.pkg.dev/colab-wheels/public/simple/\n",
            "Collecting prenlp\n",
            "  Downloading prenlp-0.0.13-py3-none-any.whl (30 kB)\n",
            "Collecting ijson\n",
            "  Downloading ijson-3.2.0.post0-cp310-cp310-manylinux_2_17_x86_64.manylinux2014_x86_64.whl (113 kB)\n",
            "\u001b[2K     \u001b[90m━━━━━━━━━━━━━━━━━━━━━━━━━━━━━━━━━━━━━━━\u001b[0m \u001b[32m113.3/113.3 kB\u001b[0m \u001b[31m8.2 MB/s\u001b[0m eta \u001b[36m0:00:00\u001b[0m\n",
            "\u001b[?25hCollecting konlpy\n",
            "  Downloading konlpy-0.6.0-py2.py3-none-any.whl (19.4 MB)\n",
            "\u001b[2K     \u001b[90m━━━━━━━━━━━━━━━━━━━━━━━━━━━━━━━━━━━━━━━━\u001b[0m \u001b[32m19.4/19.4 MB\u001b[0m \u001b[31m68.3 MB/s\u001b[0m eta \u001b[36m0:00:00\u001b[0m\n",
            "\u001b[?25hCollecting py7zr==0.5b5\n",
            "  Downloading py7zr-0.5b5-py3-none-any.whl (45 kB)\n",
            "\u001b[2K     \u001b[90m━━━━━━━━━━━━━━━━━━━━━━━━━━━━━━━━━━━━━━━━\u001b[0m \u001b[32m45.9/45.9 kB\u001b[0m \u001b[31m5.5 MB/s\u001b[0m eta \u001b[36m0:00:00\u001b[0m\n",
            "\u001b[?25hCollecting sentencepiece\n",
            "  Downloading sentencepiece-0.1.99-cp310-cp310-manylinux_2_17_x86_64.manylinux2014_x86_64.whl (1.3 MB)\n",
            "\u001b[2K     \u001b[90m━━━━━━━━━━━━━━━━━━━━━━━━━━━━━━━━━━━━━━━━\u001b[0m \u001b[32m1.3/1.3 MB\u001b[0m \u001b[31m72.3 MB/s\u001b[0m eta \u001b[36m0:00:00\u001b[0m\n",
            "\u001b[?25hCollecting nltk==3.2.5\n",
            "  Downloading nltk-3.2.5.tar.gz (1.2 MB)\n",
            "\u001b[2K     \u001b[90m━━━━━━━━━━━━━━━━━━━━━━━━━━━━━━━━━━━━━━━━\u001b[0m \u001b[32m1.2/1.2 MB\u001b[0m \u001b[31m59.2 MB/s\u001b[0m eta \u001b[36m0:00:00\u001b[0m\n",
            "\u001b[?25h  Preparing metadata (setup.py) ... \u001b[?25l\u001b[?25hdone\n",
            "Requirement already satisfied: six in /usr/local/lib/python3.10/dist-packages (from nltk==3.2.5->prenlp) (1.16.0)\n",
            "Collecting texttable\n",
            "  Downloading texttable-1.6.7-py2.py3-none-any.whl (10 kB)\n",
            "Collecting JPype1>=0.7.0\n",
            "  Downloading JPype1-1.4.1-cp310-cp310-manylinux_2_12_x86_64.manylinux2010_x86_64.whl (465 kB)\n",
            "\u001b[2K     \u001b[90m━━━━━━━━━━━━━━━━━━━━━━━━━━━━━━━━━━━━━━\u001b[0m \u001b[32m465.3/465.3 kB\u001b[0m \u001b[31m45.1 MB/s\u001b[0m eta \u001b[36m0:00:00\u001b[0m\n",
            "\u001b[?25hRequirement already satisfied: numpy>=1.6 in /usr/local/lib/python3.10/dist-packages (from konlpy->prenlp) (1.22.4)\n",
            "Requirement already satisfied: lxml>=4.1.0 in /usr/local/lib/python3.10/dist-packages (from konlpy->prenlp) (4.9.2)\n",
            "Requirement already satisfied: packaging in /usr/local/lib/python3.10/dist-packages (from JPype1>=0.7.0->konlpy->prenlp) (23.1)\n",
            "Building wheels for collected packages: nltk\n",
            "  Building wheel for nltk (setup.py) ... \u001b[?25l\u001b[?25hdone\n",
            "  Created wheel for nltk: filename=nltk-3.2.5-py3-none-any.whl size=1392159 sha256=1eee65345fc4fb52c57cba68e57b0d5a5b6fd01e63241b3197066d4f75e52608\n",
            "  Stored in directory: /root/.cache/pip/wheels/50/d6/35/4a8a48ea9fe03abae30da7971b8ed2a350436bebc00541372b\n",
            "Successfully built nltk\n",
            "Installing collected packages: texttable, sentencepiece, ijson, py7zr, nltk, JPype1, konlpy, prenlp\n",
            "  Attempting uninstall: nltk\n",
            "    Found existing installation: nltk 3.8.1\n",
            "    Uninstalling nltk-3.8.1:\n",
            "      Successfully uninstalled nltk-3.8.1\n",
            "Successfully installed JPype1-1.4.1 ijson-3.2.0.post0 konlpy-0.6.0 nltk-3.2.5 prenlp-0.0.13 py7zr-0.5b5 sentencepiece-0.1.99 texttable-1.6.7\n"
          ]
        }
      ]
    },
    {
      "cell_type": "code",
      "source": [
        "import prenlp"
      ],
      "metadata": {
        "id": "Gft3uBAWE6_T"
      },
      "execution_count": 4,
      "outputs": []
    },
    {
      "cell_type": "code",
      "execution_count": 5,
      "metadata": {
        "id": "jQSB1gspEceb"
      },
      "outputs": [],
      "source": [
        "imdb_train, imdb_test = prenlp.data.IMDB()\n"
      ]
    },
    {
      "cell_type": "code",
      "source": [
        "pip install fasttext"
      ],
      "metadata": {
        "colab": {
          "base_uri": "https://localhost:8080/"
        },
        "id": "fZsu9s4SEmiy",
        "outputId": "814972c3-f00e-41ad-a9e6-9dd1c580b2ca"
      },
      "execution_count": 6,
      "outputs": [
        {
          "output_type": "stream",
          "name": "stdout",
          "text": [
            "Looking in indexes: https://pypi.org/simple, https://us-python.pkg.dev/colab-wheels/public/simple/\n",
            "Collecting fasttext\n",
            "  Downloading fasttext-0.9.2.tar.gz (68 kB)\n",
            "\u001b[2K     \u001b[90m━━━━━━━━━━━━━━━━━━━━━━━━━━━━━━━━━━━━━━━━\u001b[0m \u001b[32m68.8/68.8 kB\u001b[0m \u001b[31m4.1 MB/s\u001b[0m eta \u001b[36m0:00:00\u001b[0m\n",
            "\u001b[?25h  Preparing metadata (setup.py) ... \u001b[?25l\u001b[?25hdone\n",
            "Collecting pybind11>=2.2\n",
            "  Using cached pybind11-2.10.4-py3-none-any.whl (222 kB)\n",
            "Requirement already satisfied: setuptools>=0.7.0 in /usr/local/lib/python3.10/dist-packages (from fasttext) (67.7.2)\n",
            "Requirement already satisfied: numpy in /usr/local/lib/python3.10/dist-packages (from fasttext) (1.22.4)\n",
            "Building wheels for collected packages: fasttext\n",
            "  Building wheel for fasttext (setup.py) ... \u001b[?25l\u001b[?25hdone\n",
            "  Created wheel for fasttext: filename=fasttext-0.9.2-cp310-cp310-linux_x86_64.whl size=4393454 sha256=05b07ef25d5bd3c668dbe7c73e82084a63c0c36cbbf68df5a7974564f56748b0\n",
            "  Stored in directory: /root/.cache/pip/wheels/a5/13/75/f811c84a8ab36eedbaef977a6a58a98990e8e0f1967f98f394\n",
            "Successfully built fasttext\n",
            "Installing collected packages: pybind11, fasttext\n",
            "Successfully installed fasttext-0.9.2 pybind11-2.10.4\n"
          ]
        }
      ]
    },
    {
      "cell_type": "code",
      "source": [
        "import fasttext\n",
        "from prenlp.data import Normalizer\n",
        "from prenlp.tokenizer import NLTKMosesTokenizer"
      ],
      "metadata": {
        "id": "7nCiAKSWFrzg"
      },
      "execution_count": 7,
      "outputs": []
    },
    {
      "cell_type": "code",
      "source": [
        "normalizer = Normalizer(emoji_repl=None)\n"
      ],
      "metadata": {
        "id": "rECm2QkNF22z"
      },
      "execution_count": 8,
      "outputs": []
    },
    {
      "cell_type": "code",
      "source": [
        "tokenizer = NLTKMosesTokenizer()\n"
      ],
      "metadata": {
        "id": "iaCxlVJ1GQW4"
      },
      "execution_count": 10,
      "outputs": []
    },
    {
      "cell_type": "code",
      "source": [
        "# Preprocessing\n",
        "for dataset in [imdb_train, imdb_test]:\n",
        "    for i, (text, label) in enumerate(dataset):\n",
        "        dataset[i][0] = ' '.join(tokenizer(normalizer.normalize(text.strip()))) # both\n",
        "        # dataset[i][0] = text.strip() # original\n",
        "        # dataset[i][0] = normalizer.normalize(text.strip()) # only normalization\n",
        "        # dataset[i][0] = ' '.join(tokenizer(text.strip())) # only tokenization\n"
      ],
      "metadata": {
        "id": "tXEU8CZmF6D7"
      },
      "execution_count": 11,
      "outputs": []
    },
    {
      "cell_type": "code",
      "source": [
        "prenlp.data.fasttext_transform(imdb_train, 'imdb.train')\n",
        "prenlp.data.fasttext_transform(imdb_test, 'imdb.test')\n"
      ],
      "metadata": {
        "id": "extFdeXMG42M"
      },
      "execution_count": 14,
      "outputs": []
    },
    {
      "cell_type": "code",
      "source": [
        "model = fasttext.train_supervised(input='imdb.train', epoch=25)"
      ],
      "metadata": {
        "id": "FCCbg5R8HQma"
      },
      "execution_count": 15,
      "outputs": []
    },
    {
      "cell_type": "code",
      "source": [
        "# Evaluate\n",
        "print(model.test('imdb.train'))\n",
        "print(model.test('imdb.test'))\n",
        "\n",
        "# Inference\n",
        "print(imdb_test[0][0])\n",
        "print(model.predict(imdb_test[0][0]))"
      ],
      "metadata": {
        "colab": {
          "base_uri": "https://localhost:8080/"
        },
        "id": "_ZxmUJFvHbGf",
        "outputId": "a5958edd-f539-4a04-fd59-73fee588783f"
      },
      "execution_count": 16,
      "outputs": [
        {
          "output_type": "stream",
          "name": "stdout",
          "text": [
            "(25000, 0.51368, 0.51368)\n",
            "(25000, 0.51448, 0.51448)\n",
            "ROCK STAR / ( 2001 ) * * * ( out of four ) By Blake French : \" Rock Star \" is the story of a nobody who becomes propelled into fame , only to realize living his dream is not the way he imagined it . We have seen all this before ( in better movies ) , but this human story does capture the world of rock and roll with a brutally honest and insightful edge . It garners a recommendation because of its visualization of the atmosphere . The script , by \" Crazy / Beautiful \" director John Stockwell , portrays the hard-core universe with memorable images-it doesn 't explain what it is about , it shows us . \" Rock Star , \" originally titled \" Metal God , \" stars Mark Wahlberg as Chris \" Izzy \" Cole , a Pittsburgh office supplies salesperson who dreams of becoming Bobby Beers , the fiery lead singer for the heavy metal rock group , Steel Dragon . Although Chris already sings for his own tribute rock group called Blood Pollution , instead of writing his own songs , he insists on performing only those by Steel Dragon , and only in the exact way they perform them . His group becomes irritated with Chris ' obsessions and gives him the boot . This devastates Chris , as well as his supportive parents and faithful girlfriend , Emily ( Jennifer Aniston from TV 's \" Friends \" ) . He then receives a phone call . It 's the Steel Dragon band . They have seen Chris ' tapes and want him to replace the recently fired lead singer . In an instant , Chris rockets into the dizzying world of sudden stardom-from the biggest rock fan to the biggest rock star . Unfortunately , it 's not as rewarding as he expected . A true story inspired the \" Rock Star \" concept . An Ohio supply salesman , Tim \" Ripper \" Owens , really did replace Rob Halford , the lead singer in Judas Priest , after initially singing for a tribute band . The rest of the film is probably fiction , although most of what happens must represent the experiences of many other bands . The film details the various ordeals of being a rock star . It explores the aspects of touring , personality differences , the danger of drug abuse and violence , struggling relationships , sexual freedom , dishonesty , and the extreme measures of the producers all to please the fans and keep popularity high . I have seen all of Mark Wahlberg 's movies , and this is the first that has earned my affection . Wahlberg , a former singer / model , has made movies like \" Fear , \" \" Boogie Nights \" \" Three Kings , \" and most recently Tim Burton 's lacking remake \" Planet of the Apes . \" I am starting to admire the young actor more and more . Although he has not performed in many successful films , he has taken many chances , and done a variety of roles . \" Rock Star \" is his best film to date . I can 't think of many actors who could have convincingly portrayed Chris Cole 's struggles and aspirations . Wahlberg truly makes \" Rock Star \" rock . Jennifer Aniston lights up the screen as well . She creates a chemistry-rich relationship with Chris that induces audience participation . It 's tragic of what happens to their relationship . We care about these characters a great deal . During the film concert scenes , director Stephen Herek ( who also directed \" Holy Man \" and the live action version of \" 101 Dalmatians \" ) creates a gripping atmosphere . He captures the scenes with an intense urgency , and a raw , unmistakable energy . The musical numbers provide the film with the best , most involving scenes . Unfortunately Herek cannot sustain the energy and zest throughout . At the three-quarters mark , he looses the spark as the movie becomes dull and unpleasant . I understand where the story needs to go in order to portray the negative side of fame , but this movie loses everything it previously had going for it . In \" Almost Famous , \" a much better film about rock and roll , there is a certain amount of interest and life in even the most sorrowful scenes . Here , it feels as if the filmmakers lose their passion . The message comes a bit too late and suddenly in the story . The film turns into a morality tale that wants to provide us with a sappy destination . The filmmakers might as well stop everything , appear on screen and say : \" now audience , the moral of the story is \" We understand the theme , but it 's too instantaneous . The personal discovery for Chris ' must be gradual . Fortunately , all of this happens in the last twenty-five minutes of the film , hardly enough to completely destroy an entire eighty-five minutes of a reasonably good feature . \" Rock Star \" is not a great movie-see \" Almost Famous \" if you want a remarkable film about rock and roll-but for Marky Mark , it 's a turning point in his career .\n",
            "(('__label__neg',), array([0.91549486]))\n"
          ]
        }
      ]
    }
  ]
}